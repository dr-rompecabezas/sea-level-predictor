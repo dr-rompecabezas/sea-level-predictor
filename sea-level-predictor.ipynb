{
 "cells": [
  {
   "cell_type": "markdown",
   "id": "5054f39b",
   "metadata": {},
   "source": [
    "### Assignment\n",
    "\n",
    "You will anaylize a dataset of the global average sea level change since 1880. You will use the data to predict the sea level change through year 2050.\n",
    "\n",
    "Use the data to complete the following tasks:\n",
    "* Use Pandas to import the data from `epa-sea-level.csv`.\n",
    "* Use matplotlib to create a scatter plot using the \"Year\" column as the x-axis and the \"CSIRO Adjusted Sea Level\" column as the y-axix.\n",
    "* Use the `linregress` function from `scipy.stats` to get the slope and y-intercept of the line of best fit. Plot the line of best fit over the top of the scatter plot. Make the line go through the year 2050 to predict the sea level rise in 2050.\n",
    "* Plot a new line of best fit just using the data from year 2000 through the most recent year in the dataset. Make the line also go through the year 2050 to predict the sea level rise in 2050 if the rate of rise continues as it has since the year 2000.\n",
    "* The x label should be \"Year\", the y label should be \"Sea Level (inches)\", and the title should be \"Rise in Sea Level\".\n",
    "\n",
    "Unit tests are written for you under `test_module.py`.\n",
    "\n",
    "### Development\n",
    "\n",
    "For development, you can use `main.py` to test your functions. Click the \"run\" button and `main.py` will run.\n",
    "\n",
    "### Testing \n",
    "\n",
    "We imported the tests from `test_module.py` to `main.py` for your convenience. The tests will run automatically whenever you hit the \"run\" button.\n",
    "\n",
    "### Submitting\n",
    "\n",
    "Copy your project's URL and submit it to freeCodeCamp.\n",
    "\n",
    "### Data Source\n",
    "Global Average Absolute Sea Level Change, 1880-2014 from the US Environmental Protection Agency using data from CSIRO, 2015; NOAA, 2015.\n",
    "https://datahub.io/core/sea-level-rise\n"
   ]
  },
  {
   "cell_type": "code",
   "execution_count": 1,
   "id": "628f1c95",
   "metadata": {},
   "outputs": [],
   "source": [
    "import numpy as np\n",
    "import pandas as pd\n",
    "import matplotlib.pyplot as plt\n",
    "from scipy.stats import linregress\n",
    "%matplotlib inline"
   ]
  },
  {
   "cell_type": "code",
   "execution_count": 2,
   "id": "66c340cc",
   "metadata": {},
   "outputs": [],
   "source": [
    "df = pd.read_csv('epa-sea-level.csv')"
   ]
  },
  {
   "cell_type": "code",
   "execution_count": 3,
   "id": "6e049104",
   "metadata": {},
   "outputs": [
    {
     "data": {
      "text/html": [
       "<div>\n",
       "<style scoped>\n",
       "    .dataframe tbody tr th:only-of-type {\n",
       "        vertical-align: middle;\n",
       "    }\n",
       "\n",
       "    .dataframe tbody tr th {\n",
       "        vertical-align: top;\n",
       "    }\n",
       "\n",
       "    .dataframe thead th {\n",
       "        text-align: right;\n",
       "    }\n",
       "</style>\n",
       "<table border=\"1\" class=\"dataframe\">\n",
       "  <thead>\n",
       "    <tr style=\"text-align: right;\">\n",
       "      <th></th>\n",
       "      <th>Year</th>\n",
       "      <th>CSIRO Adjusted Sea Level</th>\n",
       "      <th>Lower Error Bound</th>\n",
       "      <th>Upper Error Bound</th>\n",
       "      <th>NOAA Adjusted Sea Level</th>\n",
       "    </tr>\n",
       "  </thead>\n",
       "  <tbody>\n",
       "    <tr>\n",
       "      <th>0</th>\n",
       "      <td>1880</td>\n",
       "      <td>0.000000</td>\n",
       "      <td>-0.952756</td>\n",
       "      <td>0.952756</td>\n",
       "      <td>NaN</td>\n",
       "    </tr>\n",
       "    <tr>\n",
       "      <th>1</th>\n",
       "      <td>1881</td>\n",
       "      <td>0.220472</td>\n",
       "      <td>-0.732283</td>\n",
       "      <td>1.173228</td>\n",
       "      <td>NaN</td>\n",
       "    </tr>\n",
       "    <tr>\n",
       "      <th>2</th>\n",
       "      <td>1882</td>\n",
       "      <td>-0.440945</td>\n",
       "      <td>-1.346457</td>\n",
       "      <td>0.464567</td>\n",
       "      <td>NaN</td>\n",
       "    </tr>\n",
       "    <tr>\n",
       "      <th>3</th>\n",
       "      <td>1883</td>\n",
       "      <td>-0.232283</td>\n",
       "      <td>-1.129921</td>\n",
       "      <td>0.665354</td>\n",
       "      <td>NaN</td>\n",
       "    </tr>\n",
       "    <tr>\n",
       "      <th>4</th>\n",
       "      <td>1884</td>\n",
       "      <td>0.590551</td>\n",
       "      <td>-0.283465</td>\n",
       "      <td>1.464567</td>\n",
       "      <td>NaN</td>\n",
       "    </tr>\n",
       "  </tbody>\n",
       "</table>\n",
       "</div>"
      ],
      "text/plain": [
       "   Year  CSIRO Adjusted Sea Level  Lower Error Bound  Upper Error Bound  \\\n",
       "0  1880                  0.000000          -0.952756           0.952756   \n",
       "1  1881                  0.220472          -0.732283           1.173228   \n",
       "2  1882                 -0.440945          -1.346457           0.464567   \n",
       "3  1883                 -0.232283          -1.129921           0.665354   \n",
       "4  1884                  0.590551          -0.283465           1.464567   \n",
       "\n",
       "   NOAA Adjusted Sea Level  \n",
       "0                      NaN  \n",
       "1                      NaN  \n",
       "2                      NaN  \n",
       "3                      NaN  \n",
       "4                      NaN  "
      ]
     },
     "execution_count": 3,
     "metadata": {},
     "output_type": "execute_result"
    }
   ],
   "source": [
    "df.head()"
   ]
  },
  {
   "cell_type": "code",
   "execution_count": 4,
   "id": "0a91087b",
   "metadata": {},
   "outputs": [
    {
     "data": {
      "text/plain": [
       "(134, 5)"
      ]
     },
     "execution_count": 4,
     "metadata": {},
     "output_type": "execute_result"
    }
   ],
   "source": [
    "df.shape"
   ]
  },
  {
   "cell_type": "code",
   "execution_count": 5,
   "id": "3091422f",
   "metadata": {},
   "outputs": [
    {
     "data": {
      "text/html": [
       "<div>\n",
       "<style scoped>\n",
       "    .dataframe tbody tr th:only-of-type {\n",
       "        vertical-align: middle;\n",
       "    }\n",
       "\n",
       "    .dataframe tbody tr th {\n",
       "        vertical-align: top;\n",
       "    }\n",
       "\n",
       "    .dataframe thead th {\n",
       "        text-align: right;\n",
       "    }\n",
       "</style>\n",
       "<table border=\"1\" class=\"dataframe\">\n",
       "  <thead>\n",
       "    <tr style=\"text-align: right;\">\n",
       "      <th></th>\n",
       "      <th>Year</th>\n",
       "      <th>CSIRO Adjusted Sea Level</th>\n",
       "      <th>Lower Error Bound</th>\n",
       "      <th>Upper Error Bound</th>\n",
       "      <th>NOAA Adjusted Sea Level</th>\n",
       "    </tr>\n",
       "  </thead>\n",
       "  <tbody>\n",
       "    <tr>\n",
       "      <th>count</th>\n",
       "      <td>134.000000</td>\n",
       "      <td>134.000000</td>\n",
       "      <td>134.000000</td>\n",
       "      <td>134.000000</td>\n",
       "      <td>21.000000</td>\n",
       "    </tr>\n",
       "    <tr>\n",
       "      <th>mean</th>\n",
       "      <td>1946.500000</td>\n",
       "      <td>3.650341</td>\n",
       "      <td>3.204666</td>\n",
       "      <td>4.096016</td>\n",
       "      <td>7.363746</td>\n",
       "    </tr>\n",
       "    <tr>\n",
       "      <th>std</th>\n",
       "      <td>38.826537</td>\n",
       "      <td>2.485692</td>\n",
       "      <td>2.663781</td>\n",
       "      <td>2.312581</td>\n",
       "      <td>0.691038</td>\n",
       "    </tr>\n",
       "    <tr>\n",
       "      <th>min</th>\n",
       "      <td>1880.000000</td>\n",
       "      <td>-0.440945</td>\n",
       "      <td>-1.346457</td>\n",
       "      <td>0.464567</td>\n",
       "      <td>6.297493</td>\n",
       "    </tr>\n",
       "    <tr>\n",
       "      <th>25%</th>\n",
       "      <td>1913.250000</td>\n",
       "      <td>1.632874</td>\n",
       "      <td>1.078740</td>\n",
       "      <td>2.240157</td>\n",
       "      <td>6.848690</td>\n",
       "    </tr>\n",
       "    <tr>\n",
       "      <th>50%</th>\n",
       "      <td>1946.500000</td>\n",
       "      <td>3.312992</td>\n",
       "      <td>2.915354</td>\n",
       "      <td>3.710630</td>\n",
       "      <td>7.488353</td>\n",
       "    </tr>\n",
       "    <tr>\n",
       "      <th>75%</th>\n",
       "      <td>1979.750000</td>\n",
       "      <td>5.587598</td>\n",
       "      <td>5.329724</td>\n",
       "      <td>5.845472</td>\n",
       "      <td>7.907365</td>\n",
       "    </tr>\n",
       "    <tr>\n",
       "      <th>max</th>\n",
       "      <td>2013.000000</td>\n",
       "      <td>9.326772</td>\n",
       "      <td>8.992126</td>\n",
       "      <td>9.661417</td>\n",
       "      <td>8.546648</td>\n",
       "    </tr>\n",
       "  </tbody>\n",
       "</table>\n",
       "</div>"
      ],
      "text/plain": [
       "              Year  CSIRO Adjusted Sea Level  Lower Error Bound  \\\n",
       "count   134.000000                134.000000         134.000000   \n",
       "mean   1946.500000                  3.650341           3.204666   \n",
       "std      38.826537                  2.485692           2.663781   \n",
       "min    1880.000000                 -0.440945          -1.346457   \n",
       "25%    1913.250000                  1.632874           1.078740   \n",
       "50%    1946.500000                  3.312992           2.915354   \n",
       "75%    1979.750000                  5.587598           5.329724   \n",
       "max    2013.000000                  9.326772           8.992126   \n",
       "\n",
       "       Upper Error Bound  NOAA Adjusted Sea Level  \n",
       "count         134.000000                21.000000  \n",
       "mean            4.096016                 7.363746  \n",
       "std             2.312581                 0.691038  \n",
       "min             0.464567                 6.297493  \n",
       "25%             2.240157                 6.848690  \n",
       "50%             3.710630                 7.488353  \n",
       "75%             5.845472                 7.907365  \n",
       "max             9.661417                 8.546648  "
      ]
     },
     "execution_count": 5,
     "metadata": {},
     "output_type": "execute_result"
    }
   ],
   "source": [
    "df.describe()"
   ]
  },
  {
   "cell_type": "code",
   "execution_count": 6,
   "id": "81459e61",
   "metadata": {},
   "outputs": [
    {
     "name": "stdout",
     "output_type": "stream",
     "text": [
      "<class 'pandas.core.frame.DataFrame'>\n",
      "RangeIndex: 134 entries, 0 to 133\n",
      "Data columns (total 5 columns):\n",
      " #   Column                    Non-Null Count  Dtype  \n",
      "---  ------                    --------------  -----  \n",
      " 0   Year                      134 non-null    int64  \n",
      " 1   CSIRO Adjusted Sea Level  134 non-null    float64\n",
      " 2   Lower Error Bound         134 non-null    float64\n",
      " 3   Upper Error Bound         134 non-null    float64\n",
      " 4   NOAA Adjusted Sea Level   21 non-null     float64\n",
      "dtypes: float64(4), int64(1)\n",
      "memory usage: 5.4 KB\n"
     ]
    }
   ],
   "source": [
    "df.info()"
   ]
  },
  {
   "cell_type": "markdown",
   "id": "5c604599",
   "metadata": {},
   "source": [
    "Use matplotlib to create a scatter plot using the \"Year\" column as the x-axis and the \"CSIRO Adjusted Sea Level\" column as the y-axix."
   ]
  },
  {
   "cell_type": "code",
   "execution_count": 7,
   "id": "07c6c509",
   "metadata": {},
   "outputs": [],
   "source": [
    "x = df['Year']"
   ]
  },
  {
   "cell_type": "code",
   "execution_count": 8,
   "id": "04e2e535",
   "metadata": {},
   "outputs": [],
   "source": [
    "y = df['CSIRO Adjusted Sea Level']"
   ]
  },
  {
   "cell_type": "code",
   "execution_count": 9,
   "id": "2d47b20c",
   "metadata": {},
   "outputs": [
    {
     "data": {
      "text/plain": [
       "<matplotlib.collections.PathCollection at 0x7fcde46c3af0>"
      ]
     },
     "execution_count": 9,
     "metadata": {},
     "output_type": "execute_result"
    },
    {
     "data": {
      "image/png": "[encoded data removed]",
      "text/plain": [
       "<Figure size 432x288 with 1 Axes>"
      ]
     },
     "metadata": {
      "needs_background": "light"
     },
     "output_type": "display_data"
    }
   ],
   "source": [
    "plt.scatter(x, y)"
   ]
  },
  {
   "cell_type": "markdown",
   "id": "ba84b029",
   "metadata": {},
   "source": [
    "Use the linregress function from scipy.stats to get the slope and y-intercept of the line of best fit. Plot the line of best fit over the top of the scatter plot. Make the line go through the year 2050 to predict the sea level rise in 2050."
   ]
  },
  {
   "cell_type": "code",
   "execution_count": 10,
   "id": "7c18be56",
   "metadata": {},
   "outputs": [
    {
     "data": {
      "text/plain": [
       "LinregressResult(slope=0.0630445840121348, intercept=-119.06594196773978, rvalue=0.984757131182585, pvalue=3.7886969791131554e-102, stderr=0.000969211871328715, intercept_stderr=1.8869433812425225)"
      ]
     },
     "execution_count": 10,
     "metadata": {},
     "output_type": "execute_result"
    }
   ],
   "source": [
    "linregress(x, y)"
   ]
  },
  {
   "cell_type": "code",
   "execution_count": 11,
   "id": "528e06ca",
   "metadata": {},
   "outputs": [],
   "source": [
    "res = linregress(x, y)"
   ]
  },
  {
   "cell_type": "code",
   "execution_count": 12,
   "id": "f2ea812c",
   "metadata": {},
   "outputs": [
    {
     "data": {
      "image/png": "[encoded data removed]",
      "text/plain": [
       "<Figure size 432x288 with 1 Axes>"
      ]
     },
     "metadata": {
      "needs_background": "light"
     },
     "output_type": "display_data"
    }
   ],
   "source": [
    "plt.scatter(x, y)\n",
    "\n",
    "plt.plot(x, res.intercept + res.slope*x, 'r')\n",
    "\n",
    "plt.title('Rise in Sea Level')\n",
    "\n",
    "plt.xlabel('Year')\n",
    "\n",
    "plt.ylabel('Sea Level (inches)')\n",
    "\n",
    "plt.show()"
   ]
  },
  {
   "cell_type": "code",
   "execution_count": 13,
   "id": "edc16faa",
   "metadata": {},
   "outputs": [
    {
     "data": {
      "text/html": [
       "<div>\n",
       "<style scoped>\n",
       "    .dataframe tbody tr th:only-of-type {\n",
       "        vertical-align: middle;\n",
       "    }\n",
       "\n",
       "    .dataframe tbody tr th {\n",
       "        vertical-align: top;\n",
       "    }\n",
       "\n",
       "    .dataframe thead th {\n",
       "        text-align: right;\n",
       "    }\n",
       "</style>\n",
       "<table border=\"1\" class=\"dataframe\">\n",
       "  <thead>\n",
       "    <tr style=\"text-align: right;\">\n",
       "      <th></th>\n",
       "      <th>Year</th>\n",
       "      <th>CSIRO Adjusted Sea Level</th>\n",
       "      <th>Lower Error Bound</th>\n",
       "      <th>Upper Error Bound</th>\n",
       "      <th>NOAA Adjusted Sea Level</th>\n",
       "    </tr>\n",
       "  </thead>\n",
       "  <tbody>\n",
       "    <tr>\n",
       "      <th>129</th>\n",
       "      <td>2009</td>\n",
       "      <td>8.586614</td>\n",
       "      <td>8.311024</td>\n",
       "      <td>8.862205</td>\n",
       "      <td>8.046354</td>\n",
       "    </tr>\n",
       "    <tr>\n",
       "      <th>130</th>\n",
       "      <td>2010</td>\n",
       "      <td>8.901575</td>\n",
       "      <td>8.618110</td>\n",
       "      <td>9.185039</td>\n",
       "      <td>8.122973</td>\n",
       "    </tr>\n",
       "    <tr>\n",
       "      <th>131</th>\n",
       "      <td>2011</td>\n",
       "      <td>8.964567</td>\n",
       "      <td>8.661417</td>\n",
       "      <td>9.267717</td>\n",
       "      <td>8.053065</td>\n",
       "    </tr>\n",
       "    <tr>\n",
       "      <th>132</th>\n",
       "      <td>2012</td>\n",
       "      <td>9.326772</td>\n",
       "      <td>8.992126</td>\n",
       "      <td>9.661417</td>\n",
       "      <td>8.457058</td>\n",
       "    </tr>\n",
       "    <tr>\n",
       "      <th>133</th>\n",
       "      <td>2013</td>\n",
       "      <td>8.980315</td>\n",
       "      <td>8.622047</td>\n",
       "      <td>9.338583</td>\n",
       "      <td>8.546648</td>\n",
       "    </tr>\n",
       "  </tbody>\n",
       "</table>\n",
       "</div>"
      ],
      "text/plain": [
       "     Year  CSIRO Adjusted Sea Level  Lower Error Bound  Upper Error Bound  \\\n",
       "129  2009                  8.586614           8.311024           8.862205   \n",
       "130  2010                  8.901575           8.618110           9.185039   \n",
       "131  2011                  8.964567           8.661417           9.267717   \n",
       "132  2012                  9.326772           8.992126           9.661417   \n",
       "133  2013                  8.980315           8.622047           9.338583   \n",
       "\n",
       "     NOAA Adjusted Sea Level  \n",
       "129                 8.046354  \n",
       "130                 8.122973  \n",
       "131                 8.053065  \n",
       "132                 8.457058  \n",
       "133                 8.546648  "
      ]
     },
     "execution_count": 13,
     "metadata": {},
     "output_type": "execute_result"
    }
   ],
   "source": [
    "df.tail()"
   ]
  },
  {
   "cell_type": "code",
   "execution_count": 14,
   "id": "f5ac4259",
   "metadata": {},
   "outputs": [],
   "source": [
    "extension = np.arange(1880, 2051)"
   ]
  },
  {
   "cell_type": "code",
   "execution_count": 15,
   "id": "d7e71078",
   "metadata": {},
   "outputs": [],
   "source": [
    "line_1 = [res.slope*i + res.intercept for i in extension]"
   ]
  },
  {
   "cell_type": "code",
   "execution_count": 16,
   "id": "ccc6306f",
   "metadata": {},
   "outputs": [
    {
     "data": {
      "image/png": "[encoded data removed]",
      "text/plain": [
       "<Figure size 432x288 with 1 Axes>"
      ]
     },
     "metadata": {
      "needs_background": "light"
     },
     "output_type": "display_data"
    }
   ],
   "source": [
    "plt.scatter(x, y)\n",
    "\n",
    "plt.plot(extension, line_1, 'r')\n",
    "\n",
    "plt.title('Rise in Sea Level')\n",
    "\n",
    "plt.xlabel('Year')\n",
    "\n",
    "plt.ylabel('Sea Level (inches)')\n",
    "\n",
    "plt.show()"
   ]
  },
  {
   "cell_type": "markdown",
   "id": "9fc735ee",
   "metadata": {},
   "source": [
    "Plot a new line of best fit just using the data from year 2000 through the most recent year in the dataset. Make the line also go through the year 2050 to predict the sea level rise in 2050 if the rate of rise continues as it has since the year 2000."
   ]
  },
  {
   "cell_type": "code",
   "execution_count": 28,
   "id": "fd31d9e6",
   "metadata": {},
   "outputs": [],
   "source": [
    "df2 = df.loc[df['Year'] >= 2000]"
   ]
  },
  {
   "cell_type": "code",
   "execution_count": 30,
   "id": "46f80907",
   "metadata": {},
   "outputs": [
    {
     "name": "stdout",
     "output_type": "stream",
     "text": [
      "<class 'pandas.core.frame.DataFrame'>\n",
      "Int64Index: 14 entries, 120 to 133\n",
      "Data columns (total 5 columns):\n",
      " #   Column                    Non-Null Count  Dtype  \n",
      "---  ------                    --------------  -----  \n",
      " 0   Year                      14 non-null     int64  \n",
      " 1   CSIRO Adjusted Sea Level  14 non-null     float64\n",
      " 2   Lower Error Bound         14 non-null     float64\n",
      " 3   Upper Error Bound         14 non-null     float64\n",
      " 4   NOAA Adjusted Sea Level   14 non-null     float64\n",
      "dtypes: float64(4), int64(1)\n",
      "memory usage: 672.0 bytes\n"
     ]
    }
   ],
   "source": [
    "df2.info()"
   ]
  },
  {
   "cell_type": "code",
   "execution_count": 31,
   "id": "9a0db487",
   "metadata": {},
   "outputs": [],
   "source": [
    "df2x = df2['Year']"
   ]
  },
  {
   "cell_type": "code",
   "execution_count": 32,
   "id": "0f154cb5",
   "metadata": {},
   "outputs": [],
   "source": [
    "df2y = df2['CSIRO Adjusted Sea Level']"
   ]
  },
  {
   "cell_type": "code",
   "execution_count": 34,
   "id": "2ff8b80e",
   "metadata": {},
   "outputs": [],
   "source": [
    "res2 = linregress(df2x, df2y)"
   ]
  },
  {
   "cell_type": "code",
   "execution_count": 35,
   "id": "d425005c",
   "metadata": {},
   "outputs": [],
   "source": [
    "extension2 = np.arange(2000, 2051)"
   ]
  },
  {
   "cell_type": "code",
   "execution_count": 36,
   "id": "66085a20",
   "metadata": {},
   "outputs": [],
   "source": [
    "line_2 = [res2.slope*i + res2.intercept for i in extension2]"
   ]
  },
  {
   "cell_type": "code",
   "execution_count": 37,
   "id": "aa66f03a",
   "metadata": {},
   "outputs": [
    {
     "data": {
      "image/png": "[encoded data removed]",
      "text/plain": [
       "<Figure size 432x288 with 1 Axes>"
      ]
     },
     "metadata": {
      "needs_background": "light"
     },
     "output_type": "display_data"
    }
   ],
   "source": [
    "plt.scatter(x, y)\n",
    "\n",
    "plt.plot(extension, line_1, 'red')\n",
    "\n",
    "plt.plot(extension2, line_2, 'orange')\n",
    "\n",
    "plt.title('Rise in Sea Level')\n",
    "\n",
    "plt.xlabel('Year')\n",
    "\n",
    "plt.ylabel('Sea Level (inches)')\n",
    "\n",
    "plt.show()"
   ]
  },
  {
   "cell_type": "code",
   "execution_count": null,
   "id": "5cb88433",
   "metadata": {},
   "outputs": [],
   "source": []
  }
 ],
 "metadata": {
  "kernelspec": {
   "display_name": "Python 3",
   "language": "python",
   "name": "python3"
  },
  "language_info": {
   "codemirror_mode": {
    "name": "ipython",
    "version": 3
   },
   "file_extension": ".py",
   "mimetype": "text/x-python",
   "name": "python",
   "nbconvert_exporter": "python",
   "pygments_lexer": "ipython3",
   "version": "3.8.8"
  }
 },
 "nbformat": 4,
 "nbformat_minor": 5
}
